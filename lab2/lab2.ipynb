{
 "cells": [
  {
   "cell_type": "markdown",
   "id": "3db160ae",
   "metadata": {},
   "source": [
    "Варіант №6\n",
    " 1) 1, 3, 4, 6, 10, 12, 15, 17, 18"
   ]
  },
  {
   "cell_type": "code",
   "execution_count": 10,
   "id": "62bf7206",
   "metadata": {},
   "outputs": [],
   "source": [
    "import numpy as np\n",
    "import random"
   ]
  },
  {
   "cell_type": "code",
   "execution_count": 256,
   "id": "9962c315",
   "metadata": {},
   "outputs": [],
   "source": [
    "# Task 1\n",
    "\n",
    "# 1\n",
    "def task_1(n):\n",
    "    a = np.array([x+1 for x in range(n)])\n",
    "    return np.diag(a)\n",
    "\n",
    "def task_1_py(n):\n",
    "    a = [\n",
    "        [i + 1 if i == j else 0 for i in range(n)]\n",
    "        for j in range(n)\n",
    "    ]\n",
    "    return a\n",
    "\n"
   ]
  },
  {
   "cell_type": "code",
   "execution_count": 17,
   "id": "052670f9",
   "metadata": {},
   "outputs": [
    {
     "name": "stdout",
     "output_type": "stream",
     "text": [
      "13.7 µs ± 3.66 µs per loop (mean ± std. dev. of 7 runs, 100 loops each)\n"
     ]
    }
   ],
   "source": [
    "%timeit -n 100 task_1(100)"
   ]
  },
  {
   "cell_type": "code",
   "execution_count": 18,
   "id": "bf5a5f67",
   "metadata": {},
   "outputs": [
    {
     "name": "stdout",
     "output_type": "stream",
     "text": [
      "452 µs ± 57.3 µs per loop (mean ± std. dev. of 7 runs, 100 loops each)\n"
     ]
    }
   ],
   "source": [
    "%timeit -n 100 task_1_py(100)"
   ]
  },
  {
   "cell_type": "markdown",
   "id": "44f6eceb",
   "metadata": {},
   "source": [
    " ### Numpy 33x faster"
   ]
  },
  {
   "cell_type": "code",
   "execution_count": 44,
   "id": "39ee98f5",
   "metadata": {},
   "outputs": [],
   "source": [
    "# 3\n",
    "def task_3(n, m, r, c):\n",
    "    a = np.ones((m,n), dtype=int)\n",
    "    i = np.arange(0, m, c)\n",
    "    j = np.arange(0, n, r)\n",
    "    a[i] = 0\n",
    "    a = np.rot90(a)\n",
    "    a[j] = 0\n",
    "    return a\n",
    "\n",
    "def task_3_py(n, m, r, c):\n",
    "    a = [\n",
    "        [0 if j % r == 0 or i % c == 0 else 1 for i in range(m)]\n",
    "        for j in range(n)\n",
    "    ]\n",
    "    return a\n"
   ]
  },
  {
   "cell_type": "code",
   "execution_count": 48,
   "id": "9d610b43",
   "metadata": {},
   "outputs": [
    {
     "name": "stdout",
     "output_type": "stream",
     "text": [
      "16.2 µs ± 6.02 µs per loop (mean ± std. dev. of 7 runs, 100 loops each)\n"
     ]
    }
   ],
   "source": [
    "%timeit -n 100 task_3(6,7,2,3)"
   ]
  },
  {
   "cell_type": "code",
   "execution_count": 49,
   "id": "3c479da5",
   "metadata": {},
   "outputs": [
    {
     "name": "stdout",
     "output_type": "stream",
     "text": [
      "20.1 µs ± 6.49 µs per loop (mean ± std. dev. of 7 runs, 100 loops each)\n"
     ]
    }
   ],
   "source": [
    "%timeit -n 100 task_3_py(6,7,2,3)"
   ]
  },
  {
   "cell_type": "markdown",
   "id": "5c7e7d79",
   "metadata": {},
   "source": [
    "### Numpy 1.5x faster"
   ]
  },
  {
   "cell_type": "code",
   "execution_count": 67,
   "id": "3f5ae8c3",
   "metadata": {},
   "outputs": [],
   "source": [
    "# 4\n",
    "def task_4(n, m):\n",
    "    a = np.zeros((n,m), dtype=int)\n",
    "    a[0] = np.arange(0, m, 1)\n",
    "    return a\n",
    "\n",
    "def task_4_py(n, m):\n",
    "    a = [\n",
    "        [i if j == 0 else 0 for i in range(m)]\n",
    "        for j in range(n)\n",
    "    ]\n",
    "    return a\n"
   ]
  },
  {
   "cell_type": "code",
   "execution_count": 90,
   "id": "67c6e913",
   "metadata": {},
   "outputs": [
    {
     "name": "stdout",
     "output_type": "stream",
     "text": [
      "6.17 µs ± 1.89 µs per loop (mean ± std. dev. of 7 runs, 100 loops each)\n"
     ]
    }
   ],
   "source": [
    "%timeit -n 100 task_4(6,7)"
   ]
  },
  {
   "cell_type": "code",
   "execution_count": 96,
   "id": "6a33a23d",
   "metadata": {},
   "outputs": [
    {
     "name": "stdout",
     "output_type": "stream",
     "text": [
      "11.4 µs ± 4.88 µs per loop (mean ± std. dev. of 7 runs, 100 loops each)\n"
     ]
    }
   ],
   "source": [
    "%timeit -n 100 task_4_py(6,7)"
   ]
  },
  {
   "cell_type": "markdown",
   "id": "6a2dcf87",
   "metadata": {},
   "source": [
    "### Numpy 2x faster"
   ]
  },
  {
   "cell_type": "code",
   "execution_count": 102,
   "id": "06136101",
   "metadata": {},
   "outputs": [],
   "source": [
    "# 6\n",
    "def task_6(a):\n",
    "    r = np.array(a)\n",
    "    r[r > 0] = -1\n",
    "    return r\n",
    "\n",
    "def task_6_py(a):\n",
    "    r = [-1 if i > 0 else 0 for i in a]\n",
    "    return r\n"
   ]
  },
  {
   "cell_type": "code",
   "execution_count": 100,
   "id": "d4e9715c",
   "metadata": {},
   "outputs": [],
   "source": [
    "arr = [3, 4, 0, 9, 7, 0, 6, 0, 4, 0, 3]"
   ]
  },
  {
   "cell_type": "code",
   "execution_count": 134,
   "id": "7e0532fb",
   "metadata": {},
   "outputs": [
    {
     "name": "stdout",
     "output_type": "stream",
     "text": [
      "8.76 µs ± 2.72 µs per loop (mean ± std. dev. of 7 runs, 100 loops each)\n"
     ]
    }
   ],
   "source": [
    "%timeit -n 100 task_6(arr)"
   ]
  },
  {
   "cell_type": "code",
   "execution_count": 139,
   "id": "aad76d1a",
   "metadata": {},
   "outputs": [
    {
     "name": "stdout",
     "output_type": "stream",
     "text": [
      "2.65 µs ± 350 ns per loop (mean ± std. dev. of 7 runs, 100 loops each)\n"
     ]
    }
   ],
   "source": [
    "%timeit -n 100 task_6_py(arr)"
   ]
  },
  {
   "cell_type": "markdown",
   "id": "c7f4b5a0",
   "metadata": {},
   "source": [
    "### Python 3x faster"
   ]
  },
  {
   "cell_type": "code",
   "execution_count": 149,
   "id": "981999df",
   "metadata": {},
   "outputs": [],
   "source": [
    "# 10\n",
    "def task_10(n, m, out=True):\n",
    "    a = np.random.random((n,m))\n",
    "    \n",
    "    if out:\n",
    "        print(\"мінімум: {:.3f}\".format(np.min(a)))\n",
    "        print(\"максимум: {:.3f}\".format(np.max(a)))\n",
    "        print(\"середнє: {:.3f}\".format(np.mean(a)))\n",
    "        print(\"дисперсія: {:.3f}\".format(np.var(a)))\n",
    "\n",
    "    \n",
    "def task_10_py(n, m, out=True):\n",
    "    arr = [[random.random() for j in range(m)] for i in range(n)]\n",
    "    flat_arr = [val for sublist in arr for val in sublist]\n",
    "    avg = sum(flat_arr) / len(flat_arr)\n",
    "    std_dev = (sum([(val - avg)**2 for val in flat_arr]) / len(flat_arr))**0.5\n",
    "    \n",
    "    if out:\n",
    "        print(\"мінімум: {:.3f}\".format(min(flat_arr)))\n",
    "        print(\"максимум: {:.3f}\".format(max(flat_arr)))\n",
    "        print(\"середнє: {:.3f}\".format(avg))\n",
    "        print(\"дисперсія: {:.3f}\".format(std_dev))\n"
   ]
  },
  {
   "cell_type": "code",
   "execution_count": 150,
   "id": "53b99f12",
   "metadata": {},
   "outputs": [
    {
     "name": "stdout",
     "output_type": "stream",
     "text": [
      "3.25 µs ± 1.23 µs per loop (mean ± std. dev. of 7 runs, 100 loops each)\n"
     ]
    }
   ],
   "source": [
    "%timeit -n 100 task_10(4, 5, False)"
   ]
  },
  {
   "cell_type": "code",
   "execution_count": 151,
   "id": "6b9766fb",
   "metadata": {},
   "outputs": [
    {
     "name": "stdout",
     "output_type": "stream",
     "text": [
      "12.8 µs ± 5.12 µs per loop (mean ± std. dev. of 7 runs, 100 loops each)\n"
     ]
    }
   ],
   "source": [
    "%timeit -n 100 task_10_py(4, 5, False)"
   ]
  },
  {
   "cell_type": "markdown",
   "id": "7dac5779",
   "metadata": {},
   "source": [
    "### Numpy 4x faster"
   ]
  },
  {
   "cell_type": "code",
   "execution_count": 207,
   "id": "68e967ab",
   "metadata": {},
   "outputs": [],
   "source": [
    "# 12\n",
    "def task_12(n):\n",
    "    a = np.ones((n,n), dtype=int)\n",
    "    a[[0, -1], :] = 0\n",
    "    a[:, [0, -1]] = 0\n",
    "    return a\n",
    "\n",
    "def task_12_py(n) :\n",
    "    a = [[1 for j in range(n)] for i in range(n)]\n",
    "    \n",
    "    for i in range(n):\n",
    "        for j in range(n):\n",
    "            if i == 0 or i == n-1 or j == 0 or j == n-1:\n",
    "                a[i][j] = 0\n",
    "    return a"
   ]
  },
  {
   "cell_type": "code",
   "execution_count": 221,
   "id": "e4e9ff8f",
   "metadata": {},
   "outputs": [
    {
     "name": "stdout",
     "output_type": "stream",
     "text": [
      "8.82 µs ± 2.92 µs per loop (mean ± std. dev. of 7 runs, 100 loops each)\n"
     ]
    }
   ],
   "source": [
    "%timeit -n 100 task_12(5)"
   ]
  },
  {
   "cell_type": "code",
   "execution_count": 225,
   "id": "307c7093",
   "metadata": {},
   "outputs": [
    {
     "name": "stdout",
     "output_type": "stream",
     "text": [
      "25.3 µs ± 8.87 µs per loop (mean ± std. dev. of 7 runs, 100 loops each)\n"
     ]
    }
   ],
   "source": [
    "%timeit -n 100 task_12_py(5)"
   ]
  },
  {
   "cell_type": "markdown",
   "id": "3352f263",
   "metadata": {},
   "source": [
    "### Numpy 3x faster"
   ]
  },
  {
   "cell_type": "code",
   "execution_count": 228,
   "id": "25397983",
   "metadata": {},
   "outputs": [],
   "source": [
    "# 15\n",
    "def task_15(n):\n",
    "    a = np.zeros((n, n), dtype=int)\n",
    "    a[:, ::2] = 1\n",
    "    return a\n",
    "\n",
    "def task_15_py(n):\n",
    "    a = [[0 for j in range(n)] for i in range(n)]\n",
    "\n",
    "    for i in range(n):\n",
    "        for j in range(n):\n",
    "            if j % 2 == 0:\n",
    "                a[i][j] = 1\n",
    "    return a\n",
    "\n"
   ]
  },
  {
   "cell_type": "code",
   "execution_count": 231,
   "id": "bf092e76",
   "metadata": {},
   "outputs": [
    {
     "name": "stdout",
     "output_type": "stream",
     "text": [
      "3.25 µs ± 1.81 µs per loop (mean ± std. dev. of 7 runs, 100 loops each)\n"
     ]
    }
   ],
   "source": [
    "%timeit -n 100 task_15(5)"
   ]
  },
  {
   "cell_type": "code",
   "execution_count": 233,
   "id": "dc4f229c",
   "metadata": {},
   "outputs": [
    {
     "name": "stdout",
     "output_type": "stream",
     "text": [
      "16.7 µs ± 5.75 µs per loop (mean ± std. dev. of 7 runs, 100 loops each)\n"
     ]
    }
   ],
   "source": [
    "%timeit -n 100 task_15_py(5)"
   ]
  },
  {
   "cell_type": "markdown",
   "id": "dff859f5",
   "metadata": {},
   "source": [
    "### Numpy 5x faster"
   ]
  },
  {
   "cell_type": "code",
   "execution_count": 235,
   "id": "ceb94b98",
   "metadata": {},
   "outputs": [],
   "source": [
    "# 17\n",
    "def task_17(n):\n",
    "    a = np.arange(n)\n",
    "    a[:n//2] = -a[:n//2]\n",
    "    a[3*n//4:] = -a[3*n//4:]\n",
    "    return a\n",
    "\n",
    "def task_17_py(n):\n",
    "    a = list(range(n))\n",
    "    for i in range(n):\n",
    "        if i < n/2 or i >= 3*n/4:\n",
    "            a[i] = -a[i]\n",
    "    return a\n"
   ]
  },
  {
   "cell_type": "code",
   "execution_count": 244,
   "id": "9384d45b",
   "metadata": {},
   "outputs": [
    {
     "name": "stdout",
     "output_type": "stream",
     "text": [
      "15.9 µs ± 8 µs per loop (mean ± std. dev. of 7 runs, 100 loops each)\n"
     ]
    }
   ],
   "source": [
    "%timeit -n 100 task_17(5)"
   ]
  },
  {
   "cell_type": "code",
   "execution_count": 247,
   "id": "36f9c12e",
   "metadata": {},
   "outputs": [
    {
     "name": "stdout",
     "output_type": "stream",
     "text": [
      "4.12 µs ± 80.6 ns per loop (mean ± std. dev. of 7 runs, 100 loops each)\n"
     ]
    }
   ],
   "source": [
    "%timeit -n 100 task_17_py(5)"
   ]
  },
  {
   "cell_type": "markdown",
   "id": "c66ef330",
   "metadata": {},
   "source": [
    "### Python 4x faster"
   ]
  },
  {
   "cell_type": "code",
   "execution_count": 251,
   "id": "db4c909f",
   "metadata": {},
   "outputs": [],
   "source": [
    "# 18\n",
    "def task_18(n, out=True):\n",
    "    a = np.random.randint(0, 99, n)\n",
    "    if out:\n",
    "        print(f\"В послідовності {a} - {len(np.unique(a))} унікальних чисел\")\n",
    "    \n",
    "def task_18_py(n, out=True):\n",
    "    a = [random.randint(0, 99) for _ in range(n)]\n",
    "    unique = set(a)\n",
    "    if out:\n",
    "        print(f\"В послідовності {a} - {len(unique)} унікальних чисел\")\n",
    "    "
   ]
  },
  {
   "cell_type": "code",
   "execution_count": 254,
   "id": "e6739606",
   "metadata": {},
   "outputs": [
    {
     "name": "stdout",
     "output_type": "stream",
     "text": [
      "13.3 µs ± 8.19 µs per loop (mean ± std. dev. of 7 runs, 100 loops each)\n"
     ]
    }
   ],
   "source": [
    "%timeit -n 100 task_18(50, False)"
   ]
  },
  {
   "cell_type": "code",
   "execution_count": 255,
   "id": "2e626f07",
   "metadata": {},
   "outputs": [
    {
     "name": "stdout",
     "output_type": "stream",
     "text": [
      "50 µs ± 13 µs per loop (mean ± std. dev. of 7 runs, 100 loops each)\n"
     ]
    }
   ],
   "source": [
    "%timeit -n 100 task_18_py(50, False)"
   ]
  },
  {
   "cell_type": "markdown",
   "id": "d61e79e4",
   "metadata": {},
   "source": [
    "### Numpy 4x faster"
   ]
  },
  {
   "cell_type": "code",
   "execution_count": 258,
   "id": "14dd87e1",
   "metadata": {},
   "outputs": [],
   "source": [
    "# Task 2\n",
    "\n",
    "def solve(matrix):\n",
    "    b = matrix[:, -1]\n",
    "    det = matrix[:, :-1]\n",
    "    dets = []\n",
    "    for i in range(matrix.shape[0]):\n",
    "        det_i = det.copy()\n",
    "        det_i[:, i] = b\n",
    "        dets.append(det_i)\n",
    "    det = np.linalg.det(det)\n",
    "    dets = [np.linalg.det(d) for d in dets]\n",
    "    solution = [d / det for d in dets]\n",
    "    return np.array(solution)\n",
    "\n",
    "matrix = [\n",
    "    [1, 5, 3, -4, 20],\n",
    "    [3, 1, -2, 0, 9],\n",
    "    [5, -7, 0, 10, -9],\n",
    "    [0, 3, -6, 0, 1]\n",
    "]\n",
    "matrix = np.array(matrix)"
   ]
  },
  {
   "cell_type": "code",
   "execution_count": 265,
   "id": "be2a721f",
   "metadata": {},
   "outputs": [
    {
     "name": "stdout",
     "output_type": "stream",
     "text": [
      "True\n"
     ]
    },
    {
     "data": {
      "text/plain": [
       "array([[-8.88178420e-17,  3.33333333e-01,  0.00000000e+00,\n",
       "        -1.11111111e-01],\n",
       "       [ 2.70270270e-01, -2.70270270e-01,  1.08108108e-01,\n",
       "         2.25225225e-01],\n",
       "       [ 1.35135135e-01, -1.35135135e-01,  5.40540541e-02,\n",
       "        -5.40540541e-02],\n",
       "       [ 1.89189189e-01, -3.55855856e-01,  1.75675676e-01,\n",
       "         2.13213213e-01]])"
      ]
     },
     "execution_count": 265,
     "metadata": {},
     "output_type": "execute_result"
    }
   ],
   "source": [
    "print(np.allclose(solve(matrix), np.linalg.solve(matrix[:, :-1], matrix[:, -1])))\n",
    "inv = np.linalg.inv(matrix[:, :-1])\n",
    "inv"
   ]
  },
  {
   "cell_type": "code",
   "execution_count": 318,
   "id": "34d30bdf",
   "metadata": {},
   "outputs": [],
   "source": [
    "# Task 3\n",
    "\n",
    "def add_mat(mat1, mat2):\n",
    "    result = []\n",
    "    for i in range(len(mat1)):\n",
    "        row = []\n",
    "        for j in range(len(mat1[0])):\n",
    "            row.append(mat1[i][j] + mat2[i][j])\n",
    "        result.append(row)\n",
    "\n",
    "    return result\n",
    "\n",
    "def mult_mat(mat1, mat2):\n",
    "    result = []\n",
    "    for i in range(len(mat1)):\n",
    "        row = []\n",
    "        for j in range(len(mat2[0])):\n",
    "            sum = 0\n",
    "            for k in range(len(mat2)):\n",
    "                sum += mat1[i][k] * mat2[k][j]\n",
    "            row.append(sum)\n",
    "        result.append(row)\n",
    "\n",
    "    return result\n",
    "\n",
    "def mult_mat_const(mat, const):\n",
    "    return [[i * const for i in j] for j in mat]\n",
    "\n",
    "def solve_np(a, b):\n",
    "    return  np.matmul((a - np.matmul(b, b)), (2 * a + b))\n",
    "\n",
    "def solve_py(a, b):\n",
    "    return mult_mat(add_mat(a,mult_mat_const(mult_mat(b, b), -1)), add_mat(mult_mat_const(a,2), b))"
   ]
  },
  {
   "cell_type": "code",
   "execution_count": 319,
   "id": "adbfabdd",
   "metadata": {},
   "outputs": [
    {
     "data": {
      "text/plain": [
       "True"
      ]
     },
     "execution_count": 319,
     "metadata": {},
     "output_type": "execute_result"
    }
   ],
   "source": [
    "A = [\n",
    "    [5, 2, 0],\n",
    "    [10, 4, 1],\n",
    "    [7, 3, 2]\n",
    "]\n",
    "B = [\n",
    "    [3, 6, -1],\n",
    "    [-1, -2, 0],\n",
    "    [2, 1, 3]\n",
    "]\n",
    "A_np, B_np = np.array(A), np.array(B)\n",
    "np.allclose(solve_py(A, B), solve_np(A_np, B_np))"
   ]
  },
  {
   "cell_type": "code",
   "execution_count": 314,
   "id": "a3222b5c",
   "metadata": {},
   "outputs": [
    {
     "data": {
      "text/plain": [
       "[[91, 64, 32], [257, 146, 1], [-322, -135, -51]]"
      ]
     },
     "execution_count": 314,
     "metadata": {},
     "output_type": "execute_result"
    }
   ],
   "source": [
    "solve_py(A, B)"
   ]
  },
  {
   "cell_type": "code",
   "execution_count": 315,
   "id": "125a821d",
   "metadata": {},
   "outputs": [
    {
     "data": {
      "text/plain": [
       "array([[  91,   64,   32],\n",
       "       [ 257,  146,    1],\n",
       "       [-322, -135,  -51]])"
      ]
     },
     "execution_count": 315,
     "metadata": {},
     "output_type": "execute_result"
    }
   ],
   "source": [
    "solve_np(A_np, B_np)"
   ]
  },
  {
   "cell_type": "code",
   "execution_count": 322,
   "id": "f1637fec",
   "metadata": {},
   "outputs": [
    {
     "name": "stdout",
     "output_type": "stream",
     "text": [
      "10.8 µs ± 6.57 µs per loop (mean ± std. dev. of 7 runs, 100 loops each)\n",
      "25 µs ± 1.49 µs per loop (mean ± std. dev. of 7 runs, 100 loops each)\n"
     ]
    }
   ],
   "source": [
    "%timeit -n 100 solve_np(A_np, B_np)\n",
    "%timeit -n 100 solve_py(A, B)"
   ]
  },
  {
   "cell_type": "markdown",
   "id": "8be48720",
   "metadata": {},
   "source": [
    "### Numpy 2.5x faster"
   ]
  },
  {
   "cell_type": "code",
   "execution_count": null,
   "id": "a94da70d",
   "metadata": {},
   "outputs": [],
   "source": []
  }
 ],
 "metadata": {
  "kernelspec": {
   "display_name": "Python 3 (ipykernel)",
   "language": "python",
   "name": "python3"
  },
  "language_info": {
   "codemirror_mode": {
    "name": "ipython",
    "version": 3
   },
   "file_extension": ".py",
   "mimetype": "text/x-python",
   "name": "python",
   "nbconvert_exporter": "python",
   "pygments_lexer": "ipython3",
   "version": "3.9.16"
  }
 },
 "nbformat": 4,
 "nbformat_minor": 5
}
