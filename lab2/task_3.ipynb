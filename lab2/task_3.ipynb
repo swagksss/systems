{
 "cells": [
  {
   "cell_type": "markdown",
   "source": [
    "# Task 3 (Variant 10)"
   ],
   "metadata": {
    "collapsed": false
   }
  },
  {
   "cell_type": "markdown",
   "source": [
    "$$\n",
    "3 (A^2 - B^2) - 2AB,\n",
    "$$\n",
    "\n",
    "$$\n",
    "where \\ A =\n",
    "\n",
    "\\begin{pmatrix}\n",
    "4 & 2 & 1 \\\\\n",
    "3 & -2 & 0 \\\\\n",
    "0 & 1 & 2\n",
    "\\end{pmatrix}\n",
    "\n",
    ", \\ B =\n",
    "\n",
    "\\begin{pmatrix}\n",
    "2 & 0 & 2 \\\\\n",
    "5 & -7 & -2 \\\\\n",
    "1 & 0 & -1\n",
    "\\end{pmatrix}\n",
    "$$"
   ],
   "metadata": {
    "collapsed": false
   }
  },
  {
   "cell_type": "markdown",
   "source": [
    "\n",
    "Calculate matrix expression using\n",
    "- NumPy library\n",
    "- Iterative constructions (cycles, list comprehension etc.)\n",
    "- For each case measure execution time and make a conclusion\n",
    "\n",
    "#### Compare each solution using `numpy.allclose()`"
   ],
   "metadata": {
    "collapsed": false
   }
  },
  {
   "cell_type": "code",
   "execution_count": 5,
   "outputs": [],
   "source": [
    "import numpy as np"
   ],
   "metadata": {
    "collapsed": false
   }
  },
  {
   "cell_type": "code",
   "execution_count": 6,
   "outputs": [],
   "source": [
    "A_py = [[4, 2, 1],\n",
    "        [3, -2, 0],\n",
    "        [0, 1, 2],\n",
    "        ]\n",
    "\n",
    "B_py = [[2, 0, 2],\n",
    "        [5, -7, -2],\n",
    "        [1, 0, -1]\n",
    "        ]"
   ],
   "metadata": {
    "collapsed": false
   }
  },
  {
   "cell_type": "code",
   "execution_count": 7,
   "outputs": [],
   "source": [
    "A_np = np.array(A_py)\n",
    "B_np = np.array(B_py)"
   ],
   "metadata": {
    "collapsed": false
   }
  },
  {
   "cell_type": "code",
   "execution_count": 8,
   "outputs": [
    {
     "name": "stdout",
     "output_type": "stream",
     "text": [
      "4.84 µs ± 70.6 ns per loop (mean ± std. dev. of 7 runs, 100000 loops each)\n"
     ]
    }
   ],
   "source": [
    "%timeit 3 * (A_np @ A_np - B_np @ B_np) - 2 * A_np @ B_np"
   ],
   "metadata": {
    "collapsed": false
   }
  },
  {
   "cell_type": "code",
   "execution_count": 9,
   "outputs": [
    {
     "data": {
      "text/plain": "array([[  10,   43,    6],\n       [ 107, -145,  -89],\n       [  -8,   14,   11]])"
     },
     "execution_count": 9,
     "metadata": {},
     "output_type": "execute_result"
    }
   ],
   "source": [
    "np_result = 3 * (A_np @ A_np - B_np @ B_np) - 2 * A_np @ B_np\n",
    "np_result"
   ],
   "metadata": {
    "collapsed": false
   }
  },
  {
   "cell_type": "code",
   "execution_count": 10,
   "outputs": [],
   "source": [
    "def mult_by_scalar(matrix, scalar):\n",
    "    rows, cols = (len(matrix), len(matrix[0]))\n",
    "    return [[matrix[i][j] * scalar for j in range(cols)] for i in range(rows)]"
   ],
   "metadata": {
    "collapsed": false
   }
  },
  {
   "cell_type": "code",
   "execution_count": 11,
   "outputs": [],
   "source": [
    "def add_matrices(first, second):\n",
    "    if len(first) != len(second) or len(first[0]) != len(second[0]):\n",
    "        raise AssertionError(\"Non compatible matrices\")\n",
    "    rows, cols = (len(first), len(first[0]))\n",
    "    return [[first[i][j] + second[i][j] for j in range(cols)] for i in range(rows)]"
   ],
   "metadata": {
    "collapsed": false
   }
  },
  {
   "cell_type": "code",
   "execution_count": 12,
   "outputs": [],
   "source": [
    "def scalar_product(first, second, i, j):\n",
    "    total_sum = 0\n",
    "\n",
    "    for k in range(len(first[0])):\n",
    "        total_sum += first[i][k] * second[k][j]\n",
    "\n",
    "    return total_sum"
   ],
   "metadata": {
    "collapsed": false
   }
  },
  {
   "cell_type": "code",
   "execution_count": 13,
   "outputs": [],
   "source": [
    "def multiply_matrices(first, second):\n",
    "    if len(first[0]) != len(second):\n",
    "        raise AssertionError(\"Non compatible matrices\")\n",
    "    rows, cols = (len(first), len(second[0]))\n",
    "    return [[scalar_product(first, second, i, j) for j in range(cols)] for i in range(rows)]"
   ],
   "metadata": {
    "collapsed": false
   }
  },
  {
   "cell_type": "code",
   "execution_count": 14,
   "outputs": [
    {
     "name": "stdout",
     "output_type": "stream",
     "text": [
      "26.8 µs ± 494 ns per loop (mean ± std. dev. of 7 runs, 10000 loops each)\n"
     ]
    }
   ],
   "source": [
    "%%timeit\n",
    "add_matrices(\n",
    "    mult_by_scalar(add_matrices(multiply_matrices(A_py, A_py),\n",
    "                                mult_by_scalar(multiply_matrices(B_py, B_py), -1)\n",
    "                                ),\n",
    "                   3\n",
    "                   ),\n",
    "    mult_by_scalar(multiply_matrices(A_py, B_py), -2)\n",
    ")"
   ],
   "metadata": {
    "collapsed": false
   }
  },
  {
   "cell_type": "code",
   "execution_count": 15,
   "outputs": [
    {
     "data": {
      "text/plain": "array([[  10,   43,    6],\n       [ 107, -145,  -89],\n       [  -8,   14,   11]])"
     },
     "execution_count": 15,
     "metadata": {},
     "output_type": "execute_result"
    }
   ],
   "source": [
    "py_result = add_matrices(\n",
    "    mult_by_scalar(add_matrices(multiply_matrices(A_py, A_py),\n",
    "                                mult_by_scalar(multiply_matrices(B_py, B_py), -1)), 3\n",
    "                   ),\n",
    "    mult_by_scalar(multiply_matrices(A_py, B_py), -2))\n",
    "\n",
    "np.array(py_result)"
   ],
   "metadata": {
    "collapsed": false
   }
  },
  {
   "cell_type": "code",
   "execution_count": 16,
   "outputs": [
    {
     "data": {
      "text/plain": "True"
     },
     "execution_count": 16,
     "metadata": {},
     "output_type": "execute_result"
    }
   ],
   "source": [
    "np.allclose(np_result, py_result)"
   ],
   "metadata": {
    "collapsed": false
   }
  }
 ],
 "metadata": {
  "kernelspec": {
   "display_name": "Python 3 (ipykernel)",
   "language": "python",
   "name": "python3"
  },
  "language_info": {
   "codemirror_mode": {
    "name": "ipython",
    "version": 3
   },
   "file_extension": ".py",
   "mimetype": "text/x-python",
   "name": "python",
   "nbconvert_exporter": "python",
   "pygments_lexer": "ipython3",
   "version": "3.9.13"
  }
 },
 "nbformat": 4,
 "nbformat_minor": 1
}
