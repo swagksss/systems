{
 "cells": [
  {
   "cell_type": "markdown",
   "metadata": {},
   "source": [
    "# Task 2 (Variant 10)\n",
    "\n",
    "### Solve system of linear equations using Cramer's formula:\n",
    "\n",
    "$$\\begin{cases}\n",
    "4x_1 + x_2 - x_4 = -9 \\\\\n",
    "x_1 - 3x_2 + 4x_3 = 7 \\\\\n",
    "3x_2 - 2x_3 + 4x_4 = 12 \\\\\n",
    "x_1 + 2x_3 + 4x_4 = 12 \\\\\n",
    "\\end{cases}$$\n",
    "\n",
    "#### Check results using\n",
    "- matrix multiplication\n",
    "- reverse matrix\n",
    "- function `numpy.linalg.solve()`\n",
    "\n",
    "#### Compare each solution using `numpy.allclose()`"
   ]
  },
  {
   "cell_type": "code",
   "execution_count": 11,
   "metadata": {},
   "outputs": [],
   "source": [
    "import numpy as np"
   ]
  },
  {
   "cell_type": "code",
   "execution_count": 12,
   "metadata": {},
   "outputs": [],
   "source": [
    "given_lhs = np.array([\n",
    "    [4, 1, 0, -1],\n",
    "    [1, -3, 4, 0],\n",
    "    [0, 3, -2, 4],\n",
    "    [1, 0, 2, 4]\n",
    "], dtype=int)\n",
    "\n",
    "given_rhs = np.array([-9, 7, 12, 12], dtype=int)"
   ]
  },
  {
   "cell_type": "code",
   "execution_count": 13,
   "metadata": {},
   "outputs": [],
   "source": [
    "def linear_solve_cramer(lhs, rhs):\n",
    "    var_count = lhs.shape[0]\n",
    "    solution = np.empty(var_count, dtype=float)\n",
    "\n",
    "    det = np.linalg.det(lhs)\n",
    "\n",
    "    if np.allclose(det, 0):\n",
    "        raise ArithmeticError(\"Determinant is zero, no solutions\")\n",
    "\n",
    "    for i in range(var_count):\n",
    "        temp = np.copy(lhs)\n",
    "        temp[:, i] = rhs\n",
    "        solution[i] = np.linalg.det(temp) / det\n",
    "\n",
    "    return solution"
   ]
  },
  {
   "cell_type": "code",
   "execution_count": 14,
   "outputs": [],
   "source": [
    "def get_results(lhs, rhs):\n",
    "    result = []\n",
    "    try:\n",
    "        result = linear_solve_cramer(lhs, rhs)\n",
    "    except Exception as error:\n",
    "        print(error)\n",
    "\n",
    "    return result, (np.linalg.solve(lhs, rhs))"
   ],
   "metadata": {
    "collapsed": false
   }
  },
  {
   "cell_type": "code",
   "execution_count": 15,
   "outputs": [
    {
     "name": "stdout",
     "output_type": "stream",
     "text": [
      "Determinant is zero, no solutions\n"
     ]
    }
   ],
   "source": [
    "got_result, np_result = get_results(given_lhs, given_rhs)"
   ],
   "metadata": {
    "collapsed": false
   }
  },
  {
   "cell_type": "markdown",
   "source": [
    "### Change the system to the following:\n",
    "\n",
    "$$\\begin{cases}\n",
    "4x_1 + x_2 - x_4 = -9 \\\\\n",
    "x_1 - 3x_2 + 4x_3 = 7 \\\\\n",
    "3x_2 - 2x_3 + 4x_4 = 12 \\\\\n",
    "x_1 + 8x_2 + 2x_3 + 4x_4 = 12 \\\\\n",
    "\\end{cases}$$"
   ],
   "metadata": {
    "collapsed": false
   }
  },
  {
   "cell_type": "code",
   "execution_count": 16,
   "outputs": [],
   "source": [
    "given_lhs = np.array([\n",
    "    [4, 1, 0, -1],\n",
    "    [1, -3, 4, 0],\n",
    "    [0, 3, -2, 4],\n",
    "    [1, 8, 2, 4]\n",
    "], dtype=int)\n",
    "\n",
    "given_rhs = np.array([-9, 7, 12, 12], dtype=int)"
   ],
   "metadata": {
    "collapsed": false
   }
  },
  {
   "cell_type": "code",
   "execution_count": 17,
   "outputs": [],
   "source": [
    "got_result, np_result = get_results(given_lhs, given_rhs)"
   ],
   "metadata": {
    "collapsed": false
   }
  },
  {
   "cell_type": "markdown",
   "metadata": {},
   "source": [
    "### Checking"
   ]
  },
  {
   "cell_type": "markdown",
   "metadata": {},
   "source": [
    "#### Matrix multiplication"
   ]
  },
  {
   "cell_type": "code",
   "execution_count": 18,
   "metadata": {},
   "outputs": [
    {
     "data": {
      "text/plain": "True"
     },
     "execution_count": 18,
     "metadata": {},
     "output_type": "execute_result"
    }
   ],
   "source": [
    "np.allclose(given_lhs @ got_result, given_rhs)"
   ]
  },
  {
   "cell_type": "markdown",
   "metadata": {},
   "source": [
    "#### Reverse matrix"
   ]
  },
  {
   "cell_type": "code",
   "execution_count": 19,
   "metadata": {},
   "outputs": [
    {
     "data": {
      "text/plain": "True"
     },
     "execution_count": 19,
     "metadata": {},
     "output_type": "execute_result"
    }
   ],
   "source": [
    "np.allclose(np.linalg.inv(given_lhs) @ given_rhs, got_result)"
   ]
  },
  {
   "cell_type": "markdown",
   "metadata": {},
   "source": [
    "#### Compare with `numpy.linalg.solve()`"
   ]
  },
  {
   "cell_type": "code",
   "execution_count": 20,
   "metadata": {},
   "outputs": [
    {
     "data": {
      "text/plain": "True"
     },
     "execution_count": 20,
     "metadata": {},
     "output_type": "execute_result"
    }
   ],
   "source": [
    "np.allclose(got_result, np_result)"
   ]
  }
 ],
 "metadata": {
  "kernelspec": {
   "display_name": "Python 3 (ipykernel)",
   "language": "python",
   "name": "python3"
  },
  "language_info": {
   "codemirror_mode": {
    "name": "ipython",
    "version": 3
   },
   "file_extension": ".py",
   "mimetype": "text/x-python",
   "name": "python",
   "nbconvert_exporter": "python",
   "pygments_lexer": "ipython3",
   "version": "3.9.13"
  }
 },
 "nbformat": 4,
 "nbformat_minor": 1
}
