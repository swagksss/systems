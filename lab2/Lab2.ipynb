{
 "cells": [
  {
   "cell_type": "markdown",
   "id": "048b70c3",
   "metadata": {},
   "source": [
    "# Завдання 1"
   ]
  },
  {
   "cell_type": "markdown",
   "id": "bee2ad95",
   "metadata": {},
   "source": [
    "## Вправа 1\n",
    "\n",
    "Вводиться число n. Вивести масив розміру n×n, в\n",
    "якому по діагоналі йдуть числа від 1 до n, а інші числа дорівнюють 0. "
   ]
  },
  {
   "cell_type": "code",
   "execution_count": 8,
   "id": "624a19f0",
   "metadata": {},
   "outputs": [
    {
     "name": "stdout",
     "output_type": "stream",
     "text": [
      "Enter n: 4\n",
      "[1, 0, 0, 0]\n",
      "[0, 2, 0, 0]\n",
      "[0, 0, 3, 0]\n",
      "[0, 0, 0, 4]\n",
      "CPU times: user 5.79 ms, sys: 3.59 ms, total: 9.38 ms\n",
      "Wall time: 326 ms\n"
     ]
    }
   ],
   "source": [
    "def task_1():\n",
    "    n = int(input(\"Enter n: \"))\n",
    "    arr = [[0 for j in range(n)] for i in range(n)]\n",
    "    \n",
    "    for i in range(n):\n",
    "        arr[i][i] = i + 1\n",
    "\n",
    "    for row in arr:\n",
    "        print(row)\n",
    "        \n",
    "        \n",
    "%time task_1()"
   ]
  },
  {
   "cell_type": "code",
   "execution_count": 2,
   "id": "e4c7f56d",
   "metadata": {},
   "outputs": [
    {
     "name": "stdout",
     "output_type": "stream",
     "text": [
      "[[1 0 0 0 0]\n",
      " [0 2 0 0 0]\n",
      " [0 0 3 0 0]\n",
      " [0 0 0 4 0]\n",
      " [0 0 0 0 5]]\n",
      "CPU times: user 567 ms, sys: 18.1 ms, total: 585 ms\n",
      "Wall time: 4.99 s\n"
     ]
    }
   ],
   "source": [
    "import numpy as np\n",
    "\n",
    "def task_1():\n",
    "    n = int(input(\"Enter n: \"))\n",
    "    arr = np.zeros((n, n), dtype=int)\n",
    "    arr[np.diag_indices_from(arr)] = np.arange(1, n+1)\n",
    "    print(arr)\n",
    "\n",
    "\n",
    "%time task_1()"
   ]
  },
  {
   "cell_type": "markdown",
   "id": "9795396b",
   "metadata": {},
   "source": [
    "## Вправа 3\n",
    "\n",
    "Вводяться 4 числа n, m, r, c. Вивести масив розміру n×m, в якому в кожному рядку з номером r і в кожному стовпчику з номером c стоять 0, а інші елементи дорівнюють 1."
   ]
  },
  {
   "cell_type": "code",
   "execution_count": 3,
   "id": "eadbec2c",
   "metadata": {},
   "outputs": [
    {
     "name": "stdout",
     "output_type": "stream",
     "text": [
      "[1, 1, 1, 1, 1, 1]\n",
      "[1, 1, 1, 1, 1, 1]\n",
      "[1, 1, 1, 1, 1, 1]\n",
      "[1, 1, 1, 1, 1, 1]\n",
      "[1, 1, 1, 1, 1, 1]\n",
      "CPU times: user 69 ms, sys: 38.1 ms, total: 107 ms\n",
      "Wall time: 9.06 s\n"
     ]
    }
   ],
   "source": [
    "def task_3():\n",
    "    n = int(input(\"Enter n: \"))\n",
    "    m = int(input(\"Enter m: \"))\n",
    "    r = int(input(\"Enter r: \"))\n",
    "    c = int(input(\"Enter c: \"))\n",
    "    \n",
    "    arr = [[1 for j in range(m)] for i in range(n)]\n",
    "    \n",
    "    for i in range(n):\n",
    "        if i % r == 0:\n",
    "            arr[i] = [0 for j in range(m)]\n",
    "\n",
    "    for i in range(m):\n",
    "        if i % c == 0:\n",
    "            for j in range(n):\n",
    "                arr[j][i] = 0\n",
    "        \n",
    "    for row in arr:\n",
    "        print(row)\n",
    "        \n",
    "%time task_3()\n",
    "    "
   ]
  },
  {
   "cell_type": "code",
   "execution_count": 12,
   "id": "d755103e",
   "metadata": {},
   "outputs": [
    {
     "name": "stdout",
     "output_type": "stream",
     "text": [
      "Enter n: 6\n",
      "Enter m: 7\n",
      "Enter r: 2\n",
      "Enter c: 3\n",
      "[[0 0 0 0 0 0 0]\n",
      " [0 1 1 0 1 1 0]\n",
      " [0 0 0 0 0 0 0]\n",
      " [0 1 1 0 1 1 0]\n",
      " [0 0 0 0 0 0 0]\n",
      " [0 1 1 0 1 1 0]]\n",
      "CPU times: user 59.9 ms, sys: 36.7 ms, total: 96.6 ms\n",
      "Wall time: 5.49 s\n"
     ]
    }
   ],
   "source": [
    "import numpy as np\n",
    "\n",
    "def task_3():\n",
    "    n = int(input(\"Enter n: \"))\n",
    "    m = int(input(\"Enter m: \"))\n",
    "    r = int(input(\"Enter r: \"))\n",
    "    c = int(input(\"Enter c: \"))\n",
    "    \n",
    "    arr = np.ones((n, m), dtype=int)\n",
    "    arr[::r, :] = 0\n",
    "    arr[:, ::c] = 0\n",
    "\n",
    "    print(arr)\n",
    "    \n",
    "%time task_3()"
   ]
  },
  {
   "cell_type": "markdown",
   "id": "f34aad02",
   "metadata": {},
   "source": [
    "## Вправа 4\n",
    "\n",
    "Вводяться числа n і m. Вивести масив розміру n×m, в якому у першому рядку (рядок з нулевим індексом) йдуть числа від 0 до m–1, а всі інші елементи матриці дорівнюють 0."
   ]
  },
  {
   "cell_type": "code",
   "execution_count": 17,
   "id": "3e5fcabb",
   "metadata": {},
   "outputs": [
    {
     "name": "stdout",
     "output_type": "stream",
     "text": [
      "Enter n: 3\n",
      "Enter m: 4\n",
      "[0, 1, 2, 3]\n",
      "[0, 0, 0, 0]\n",
      "[0, 0, 0, 0]\n",
      "CPU times: user 12.3 ms, sys: 6.23 ms, total: 18.5 ms\n",
      "Wall time: 970 ms\n"
     ]
    }
   ],
   "source": [
    "def task_4():\n",
    "    n = int(input(\"Enter n: \"))\n",
    "    m = int(input(\"Enter m: \"))\n",
    "    \n",
    "    arr = [[0 for j in range(m)] for i in range(n)]\n",
    "    \n",
    "    for i in range(m):\n",
    "        arr[0][i] = i\n",
    "        \n",
    "    for row in arr:\n",
    "        print(row)\n",
    "        \n",
    "%time task_4()"
   ]
  },
  {
   "cell_type": "code",
   "execution_count": 2,
   "id": "4656a3d1",
   "metadata": {},
   "outputs": [
    {
     "name": "stdout",
     "output_type": "stream",
     "text": [
      "Enter n: 3\n",
      "Enter m: 4\n",
      "[[0 1 2 3]\n",
      " [0 0 0 0]\n",
      " [0 0 0 0]]\n",
      "CPU times: user 14.3 ms, sys: 4.96 ms, total: 19.3 ms\n",
      "Wall time: 1.14 s\n"
     ]
    }
   ],
   "source": [
    "import numpy as np\n",
    "\n",
    "def task_4():\n",
    "    n = int(input(\"Enter n: \"))\n",
    "    m = int(input(\"Enter m: \"))\n",
    "    \n",
    "    arr = np.zeros((n, m), dtype=int)\n",
    "    \n",
    "    arr[0] = np.arange(m)\n",
    "    \n",
    "    print(arr)\n",
    "    \n",
    "%time task_4()"
   ]
  },
  {
   "cell_type": "markdown",
   "id": "287a12d2",
   "metadata": {},
   "source": [
    "## Вправа 5\n",
    "\n",
    "Вводиться число n. Вивести масив розміру n×n, в якому в рядках з парними індексами стоять 1, а в інших – 0."
   ]
  },
  {
   "cell_type": "code",
   "execution_count": 128,
   "id": "b91dd73b",
   "metadata": {},
   "outputs": [
    {
     "name": "stdout",
     "output_type": "stream",
     "text": [
      "Enter n: 10\n",
      "[1, 1, 1, 1, 1, 1, 1, 1, 1, 1]\n",
      "[0, 0, 0, 0, 0, 0, 0, 0, 0, 0]\n",
      "[1, 1, 1, 1, 1, 1, 1, 1, 1, 1]\n",
      "[0, 0, 0, 0, 0, 0, 0, 0, 0, 0]\n",
      "[1, 1, 1, 1, 1, 1, 1, 1, 1, 1]\n",
      "[0, 0, 0, 0, 0, 0, 0, 0, 0, 0]\n",
      "[1, 1, 1, 1, 1, 1, 1, 1, 1, 1]\n",
      "[0, 0, 0, 0, 0, 0, 0, 0, 0, 0]\n",
      "[1, 1, 1, 1, 1, 1, 1, 1, 1, 1]\n",
      "[0, 0, 0, 0, 0, 0, 0, 0, 0, 0]\n",
      "CPU times: user 17.2 ms, sys: 8.19 ms, total: 25.4 ms\n",
      "Wall time: 1.14 s\n"
     ]
    }
   ],
   "source": [
    "def task_5():\n",
    "    n = int(input(\"Enter n: \"))\n",
    "    \n",
    "    arr = [[0 for j in range(n)] for i in range(n)]\n",
    "    \n",
    "    for i in range(n):\n",
    "        if i % 2 == 0:\n",
    "            for j in range(n):\n",
    "                arr[i][j] = 1\n",
    "                \n",
    "    for row in arr:\n",
    "        print(row)\n",
    "        \n",
    "%time task_5()"
   ]
  },
  {
   "cell_type": "code",
   "execution_count": 129,
   "id": "dcdc812c",
   "metadata": {},
   "outputs": [
    {
     "name": "stdout",
     "output_type": "stream",
     "text": [
      "Enter n: 10\n",
      "[[1 1 1 1 1 1 1 1 1 1]\n",
      " [0 0 0 0 0 0 0 0 0 0]\n",
      " [1 1 1 1 1 1 1 1 1 1]\n",
      " [0 0 0 0 0 0 0 0 0 0]\n",
      " [1 1 1 1 1 1 1 1 1 1]\n",
      " [0 0 0 0 0 0 0 0 0 0]\n",
      " [1 1 1 1 1 1 1 1 1 1]\n",
      " [0 0 0 0 0 0 0 0 0 0]\n",
      " [1 1 1 1 1 1 1 1 1 1]\n",
      " [0 0 0 0 0 0 0 0 0 0]]\n",
      "CPU times: user 11.9 ms, sys: 8.52 ms, total: 20.4 ms\n",
      "Wall time: 643 ms\n"
     ]
    }
   ],
   "source": [
    "import numpy as np\n",
    "\n",
    "def task_5():\n",
    "    n = int(input(\"Enter n: \"))\n",
    "    \n",
    "    arr = np.zeros((n, n), dtype=int)\n",
    "    arr[::2] = np.ones(n, dtype=int)\n",
    "    \n",
    "    print(arr)\n",
    "    \n",
    "%time task_5()"
   ]
  },
  {
   "cell_type": "markdown",
   "id": "4c2ef538",
   "metadata": {},
   "source": [
    "## Вправа 10\n",
    "\n",
    "Вводиться числа n i m. Створити масив випадкових значень n×m і обчислити мінімальне, максимальне значення, середнє та середньо квадратичне відхилення, округлене до 3 знаків після коми."
   ]
  },
  {
   "cell_type": "code",
   "execution_count": 14,
   "id": "3b1fbdb3",
   "metadata": {},
   "outputs": [
    {
     "name": "stdout",
     "output_type": "stream",
     "text": [
      "Enter n: 3\n",
      "Enter m: 4\n",
      "мінімум: 0.049\n",
      "максимум: 0.973\n",
      "середнє: 0.583\n",
      "дисперсія: 0.283\n",
      "CPU times: user 13.1 ms, sys: 7.2 ms, total: 20.3 ms\n",
      "Wall time: 1.05 s\n"
     ]
    }
   ],
   "source": [
    "import random\n",
    "import math\n",
    "\n",
    "def task_10():\n",
    "    n = int(input(\"Enter n: \"))\n",
    "    m = int(input(\"Enter m: \"))\n",
    "    \n",
    "    arr = [[round(random.uniform(0, 1), 3) for j in range(m)] for i in range(n)]\n",
    "\n",
    "    arr_min = min(min(arr[i]) for i in range(n))\n",
    "    arr_max = max(max(arr[i]) for i in range(n))\n",
    "\n",
    "    sum_val = sum(sum(arr[i]) for i in range(n))\n",
    "    arr_mean = sum_val / (n * m)\n",
    "\n",
    "    sq_diff = sum((arr[i][j] - arr_mean) ** 2 for i in range(n) for j in range(m))\n",
    "    arr_std = math.sqrt(sq_diff / (n * m))\n",
    "\n",
    "    print(f\"мінімум: {arr_min}\")\n",
    "    print(f\"максимум: {arr_max}\")\n",
    "    print(f\"середнє: {arr_mean:.3f}\")\n",
    "    print(f\"дисперсія: {arr_std:.3f}\")\n",
    "\n",
    "%time task_10()"
   ]
  },
  {
   "cell_type": "code",
   "execution_count": 15,
   "id": "0c7e315e",
   "metadata": {},
   "outputs": [
    {
     "name": "stdout",
     "output_type": "stream",
     "text": [
      "Enter n: 3\n",
      "Enter m: 4\n",
      "мінімум: 0.112\n",
      "максимум: 0.915\n",
      "середнє: 0.520\n",
      "дисперсія: 0.252\n",
      "CPU times: user 11.7 ms, sys: 5.85 ms, total: 17.6 ms\n",
      "Wall time: 833 ms\n"
     ]
    }
   ],
   "source": [
    "import random\n",
    "import math\n",
    "import numpy as np\n",
    "\n",
    "def task_4():\n",
    "    n = int(input(\"Enter n: \"))\n",
    "    m = int(input(\"Enter m: \"))\n",
    "    \n",
    "    arr = np.random.rand(n, m)\n",
    "    arr_min = np.min(arr)\n",
    "    arr_max = np.max(arr)\n",
    "    arr_mean = np.mean(arr)\n",
    "    arr_std = np.std(arr)\n",
    "    \n",
    "    print(f\"мінімум: {arr_min}\")\n",
    "    print(f\"максимум: {arr_max}\")\n",
    "    print(f\"середнє: {arr_mean:.3f}\")\n",
    "    print(f\"дисперсія: {arr_std:.3f}\")\n",
    "    \n",
    "%time task_10()    "
   ]
  },
  {
   "cell_type": "markdown",
   "id": "fe2720b5",
   "metadata": {},
   "source": [
    "## Вправа 12\n",
    "\n",
    "Створити масив одиниць розміром n×n та створити в ньому «рамку», що утворюється з 0."
   ]
  },
  {
   "cell_type": "code",
   "execution_count": 22,
   "id": "90501046",
   "metadata": {},
   "outputs": [
    {
     "name": "stdout",
     "output_type": "stream",
     "text": [
      "Enter n: 6\n",
      "[0, 0, 0, 0, 0, 0]\n",
      "[0, 1, 1, 1, 1, 0]\n",
      "[0, 1, 1, 1, 1, 0]\n",
      "[0, 1, 1, 1, 1, 0]\n",
      "[0, 1, 1, 1, 1, 0]\n",
      "[0, 0, 0, 0, 0, 0]\n",
      "CPU times: user 6.85 ms, sys: 4.39 ms, total: 11.2 ms\n",
      "Wall time: 564 ms\n"
     ]
    }
   ],
   "source": [
    "def task_12():\n",
    "    n = int(input(\"Enter n: \"))\n",
    "    \n",
    "    arr = [[1 for j in range(n)] for i in range(n)]\n",
    "    \n",
    "    arr[0] = [0 for i in range(n)]\n",
    "    arr[n-1] = [0 for i in range(n)]\n",
    "    \n",
    "    for i in range(1, n-1):\n",
    "        for j in range(n):\n",
    "            if j == 0 or j == n - 1:\n",
    "                arr[i][j] = 0\n",
    "                \n",
    "    for row in arr:\n",
    "        print(row)\n",
    "        \n",
    "%time task_12()\n",
    "    "
   ]
  },
  {
   "cell_type": "code",
   "execution_count": 32,
   "id": "53ed1d63",
   "metadata": {},
   "outputs": [
    {
     "name": "stdout",
     "output_type": "stream",
     "text": [
      "Enter n: 4\n",
      "[[0 0 0 0]\n",
      " [0 1 1 0]\n",
      " [0 1 1 0]\n",
      " [0 0 0 0]]\n",
      "CPU times: user 8.41 ms, sys: 5.02 ms, total: 13.4 ms\n",
      "Wall time: 573 ms\n"
     ]
    }
   ],
   "source": [
    "import numpy as np\n",
    "\n",
    "def task_12():\n",
    "    n = int(input(\"Enter n: \"))\n",
    "    \n",
    "    arr = np.ones((n, n), dtype=int)\n",
    "    \n",
    "    arr[::n-1, :] = 0\n",
    "    arr[:, ::n-1] = 0\n",
    "\n",
    "    print(arr)\n",
    "    \n",
    "%time task_12()"
   ]
  },
  {
   "cell_type": "markdown",
   "id": "bd82f6bb",
   "metadata": {},
   "source": [
    "## Вправа 16\n",
    "\n",
    "Заповнити вектор значеннями від 0 до n. Всі значення, що більші за n/4 та менші за 3n/4 замінити нулями."
   ]
  },
  {
   "cell_type": "code",
   "execution_count": 35,
   "id": "2bdcd597",
   "metadata": {},
   "outputs": [
    {
     "name": "stdout",
     "output_type": "stream",
     "text": [
      "Enter n: 10\n",
      "[0, 1, 2, 0, 0, 0, 0, 0, 8, 9, 10]\n",
      "CPU times: user 10.5 ms, sys: 6.35 ms, total: 16.9 ms\n",
      "Wall time: 1.16 s\n"
     ]
    }
   ],
   "source": [
    "def task_16():\n",
    "    n = int(input(\"Enter n: \"))\n",
    "    \n",
    "    arr = [i for i in range(n+1)]\n",
    "    \n",
    "    for i in range(n+1):\n",
    "        if n/4 < i and i < 3*n/4:\n",
    "            arr[i] = 0\n",
    "            \n",
    "    print(arr)\n",
    "        \n",
    "%time task_16()"
   ]
  },
  {
   "cell_type": "code",
   "execution_count": 37,
   "id": "997b73d1",
   "metadata": {},
   "outputs": [
    {
     "name": "stdout",
     "output_type": "stream",
     "text": [
      "Enter n: 10\n",
      "[ 0  1  2  0  0  0  0  0  8  9 10]\n",
      "CPU times: user 14.1 ms, sys: 7.75 ms, total: 21.8 ms\n",
      "Wall time: 1.42 s\n"
     ]
    }
   ],
   "source": [
    "import numpy as np\n",
    "\n",
    "def task_16():\n",
    "    n = int(input(\"Enter n: \"))\n",
    "    \n",
    "    arr = np.arange(n+1)\n",
    "    arr[(arr > n/4) & (arr < 3*n/4)] = 0\n",
    "    \n",
    "    print(arr)\n",
    "    \n",
    "%time task_16()"
   ]
  },
  {
   "cell_type": "markdown",
   "id": "84b98866",
   "metadata": {},
   "source": [
    "## Вправа 17\n",
    "\n",
    "Заповнити вектор значеннями від 0 до n. Замінити знаки для всіх значень, що менші за n/2 та більші за 3n/4 на протилежні."
   ]
  },
  {
   "cell_type": "code",
   "execution_count": 43,
   "id": "254d2ba2",
   "metadata": {},
   "outputs": [
    {
     "name": "stdout",
     "output_type": "stream",
     "text": [
      "Enter n: 10\n",
      "[0, -1, -2, -3, -4, 5, 6, 7, -8, -9, -10]\n",
      "CPU times: user 11.5 ms, sys: 6.44 ms, total: 17.9 ms\n",
      "Wall time: 1.18 s\n"
     ]
    }
   ],
   "source": [
    "def task_17():\n",
    "    n = int(input(\"Enter n: \"))\n",
    "    \n",
    "    arr = [i for i in range(n+1)]\n",
    "    \n",
    "    for i in range(n+1):\n",
    "        if i < n/2 or i > 3*n/4:\n",
    "            arr[i] *= -1\n",
    "            \n",
    "    print(arr)\n",
    "        \n",
    "%time task_17()"
   ]
  },
  {
   "cell_type": "code",
   "execution_count": 46,
   "id": "0d8521de",
   "metadata": {},
   "outputs": [
    {
     "name": "stdout",
     "output_type": "stream",
     "text": [
      "Enter n: 10\n",
      "[  0  -1  -2  -3  -4   5   6   7  -8  -9 -10]\n",
      "CPU times: user 9.26 ms, sys: 6.93 ms, total: 16.2 ms\n",
      "Wall time: 1.04 s\n"
     ]
    }
   ],
   "source": [
    "import numpy as np\n",
    "\n",
    "def task_17():\n",
    "    n = int(input(\"Enter n: \"))\n",
    "    \n",
    "    arr = np.arange(n+1)\n",
    "    arr[(arr < n/2) | (arr > 3*n/4)] *= -1\n",
    "    \n",
    "    print(arr)\n",
    "    \n",
    "%time task_17()"
   ]
  },
  {
   "cell_type": "markdown",
   "id": "846b9ddb",
   "metadata": {},
   "source": [
    "## Вправа 21\n",
    "\n",
    "Ввести числа n і m. Згенерувати матрицю n×n випадкових цілих елементів з діапазону [0, m]. Замінити всі максимальні елементи цієї матриці на протилежні за знаком."
   ]
  },
  {
   "cell_type": "code",
   "execution_count": 52,
   "id": "b56f7cbd",
   "metadata": {},
   "outputs": [
    {
     "name": "stdout",
     "output_type": "stream",
     "text": [
      "Enter n: 4\n",
      "Enter m: 10\n",
      "Початковий вектор\n",
      "[9, 6, 8, 5]\n",
      "[2, 2, 0, 9]\n",
      "[7, 9, 9, 3]\n",
      "[10, 0, 1, 1]\n",
      "Змінений вектор\n",
      "[9, 6, 8, 5]\n",
      "[2, 2, 0, 9]\n",
      "[7, 9, 9, 3]\n",
      "[-10, 0, 1, 1]\n",
      "CPU times: user 22.4 ms, sys: 11.9 ms, total: 34.3 ms\n",
      "Wall time: 2.32 s\n"
     ]
    }
   ],
   "source": [
    "def task_21():\n",
    "    n = int(input(\"Enter n: \"))\n",
    "    m = int(input(\"Enter m: \"))\n",
    "    \n",
    "    arr = [[random.randint(0, m) for j in range(n)] for i in range(n)]\n",
    "    \n",
    "    print('Початковий вектор')\n",
    "    for row in arr:\n",
    "        print(row)\n",
    "        \n",
    "    arr_max = max(max(arr[i]) for i in range(n))\n",
    "    for i in range(n):\n",
    "        for j in range(n):\n",
    "            if arr[i][j] == arr_max:\n",
    "                arr[i][j] *= -1\n",
    "                \n",
    "    print('Змінений вектор')\n",
    "    for row in arr:\n",
    "        print(row)\n",
    "        \n",
    "%time task_21()"
   ]
  },
  {
   "cell_type": "code",
   "execution_count": 56,
   "id": "a1617739",
   "metadata": {},
   "outputs": [
    {
     "name": "stdout",
     "output_type": "stream",
     "text": [
      "Enter n: 4\n",
      "Enter m: 9\n",
      "Початковий вектор\n",
      "[[3 3 5 1]\n",
      " [9 9 8 9]\n",
      " [9 5 9 4]\n",
      " [1 6 6 9]]\n",
      "Змінений вектор\n",
      "[[ 3  3  5  1]\n",
      " [-9 -9  8 -9]\n",
      " [-9  5 -9  4]\n",
      " [ 1  6  6 -9]]\n",
      "CPU times: user 20 ms, sys: 10.2 ms, total: 30.2 ms\n",
      "Wall time: 2.12 s\n"
     ]
    }
   ],
   "source": [
    "import numpy as np\n",
    "\n",
    "def task_21():\n",
    "    n = int(input(\"Enter n: \"))\n",
    "    m = int(input(\"Enter m: \"))\n",
    "    \n",
    "    arr = np.random.randint(0, m+1, size=(n, n))\n",
    "    \n",
    "    print('Початковий вектор')\n",
    "    print(arr)\n",
    "        \n",
    "    arr_max = np.max(arr)\n",
    "    \n",
    "    arr[arr == arr_max] *= -1\n",
    "                \n",
    "    print('Змінений вектор')\n",
    "    print(arr)\n",
    "        \n",
    "%time task_21()"
   ]
  },
  {
   "cell_type": "markdown",
   "id": "8a8f9e2a",
   "metadata": {},
   "source": [
    "# Завдання 2\n",
    "\n",
    "Розв'язати систему алгебраїчних рівнянь за допомогою формул Крамера і виконати перевірку за допомогою:\n",
    "* матричного множення;\n",
    "* оберненої матриці;\n",
    "* функції `numpy.linalg.solve()`.\n",
    "\n",
    "Порівняти всі рішення за допомогою функції `numpy.allclose()`."
   ]
  },
  {
   "cell_type": "markdown",
   "id": "040b6df9",
   "metadata": {},
   "source": [
    "Матричне представлення системи лінійних алгебраїчних рівнянь та розв'язок:"
   ]
  },
  {
   "cell_type": "code",
   "execution_count": 61,
   "id": "e111023f",
   "metadata": {},
   "outputs": [
    {
     "name": "stdout",
     "output_type": "stream",
     "text": [
      "Матриця коефіцієнтів\n",
      "[2, -1, 3, 2]\n",
      "[3, 3, 3, 2]\n",
      "[3, -1, -1, 2]\n",
      "[3, -1, 3, -1]\n",
      "\n",
      "Вектор вільних членів\n",
      "[4, 6, 6, 6]\n",
      "\n",
      "Вектор розв'язку\n",
      "[2, 0, 0, 0]\n"
     ]
    }
   ],
   "source": [
    "A = [[2, -1, 3, 2],\n",
    "    [3,  3,  3, 2],\n",
    "    [3, -1, -1, 2],\n",
    "    [3, -1, 3, -1]]\n",
    "\n",
    "B = [4, 6, 6, 6]\n",
    "\n",
    "S = [2, 0, 0, 0]\n",
    "\n",
    "print('Матриця коефіцієнтів')\n",
    "for row in A:\n",
    "    print(row)\n",
    "    \n",
    "print('\\nВектор вільних членів')\n",
    "print(B)\n",
    "\n",
    "\n",
    "print(\"\\nВектор розв'язку\")\n",
    "print(S)"
   ]
  },
  {
   "cell_type": "markdown",
   "id": "667cf502",
   "metadata": {},
   "source": [
    "## Перевірка\n",
    "\n",
    "### Спосіб 1: матричне множення"
   ]
  },
  {
   "cell_type": "code",
   "execution_count": 67,
   "id": "4d4392c8",
   "metadata": {},
   "outputs": [
    {
     "name": "stdout",
     "output_type": "stream",
     "text": [
      "А * S:\n",
      "[4, 6, 6, 6]\n",
      "\n",
      "A * S == B:\n",
      "True\n"
     ]
    }
   ],
   "source": [
    "A = [[2, -1, 3, 2],\n",
    "    [3,  3,  3, 2],\n",
    "    [3, -1, -1, 2],\n",
    "    [3, -1, 3, -1]]\n",
    "\n",
    "B = [4, 6, 6, 6]\n",
    "\n",
    "S = [2, 0, 0, 0]\n",
    "\n",
    "fact_sol = [0] * 4\n",
    "\n",
    "for i in range(4):\n",
    "    sum = 0\n",
    "    for j in range(4):\n",
    "        sum += A[i][j] * S[j]\n",
    "    fact_sol[i] = sum\n",
    "    \n",
    "print(\"А * S:\")\n",
    "print(fact_sol)\n",
    "\n",
    "print(\"\\nA * S == B:\")\n",
    "print(fact_sol == B)"
   ]
  },
  {
   "cell_type": "markdown",
   "id": "d2b028ba",
   "metadata": {},
   "source": [
    "### Спосіб 2: обернена матриця"
   ]
  },
  {
   "cell_type": "code",
   "execution_count": 126,
   "id": "90bd1e4a",
   "metadata": {},
   "outputs": [
    {
     "name": "stdout",
     "output_type": "stream",
     "text": [
      "inverse A:\n",
      "[[-0.18181818  0.06818182  0.20454545  0.18181818]\n",
      " [-0.20454545  0.23295455 -0.05113636 -0.04545455]\n",
      " [ 0.20454545  0.01704545 -0.19886364  0.04545455]\n",
      " [ 0.27272727  0.02272727  0.06818182 -0.27272727]]\n",
      "\n",
      "A_inv * B:\n",
      "[2.00000000e+00 0.00000000e+00 0.00000000e+00 2.22044605e-16]\n",
      "\n",
      "np.allclose(S, fact_sol):\n",
      "True\n"
     ]
    }
   ],
   "source": [
    "import numpy as np\n",
    "\n",
    "A = np.array([[2, -1, 3, 2],\n",
    "    [3,  3,  3, 2],\n",
    "    [3, -1, -1, 2],\n",
    "    [3, -1, 3, -1]])\n",
    "\n",
    "B = np.array([4, 6, 6, 6])\n",
    "S = np.array([2, 0, 0, 0])\n",
    "\n",
    "A_inv = np.linalg.inv(A)\n",
    "\n",
    "\n",
    "print(\"inverse A:\")\n",
    "print(A_inv)\n",
    "\n",
    "fact_sol = A_inv.dot(B)\n",
    "\n",
    "print(\"\\nA_inv * B:\")\n",
    "print(fact_sol)\n",
    "\n",
    "print(\"\\nnp.allclose(S, fact_sol):\")\n",
    "print(np.allclose(S, fact_sol))"
   ]
  },
  {
   "cell_type": "markdown",
   "id": "2b9dba22",
   "metadata": {},
   "source": [
    "## Розв'язання з використанням `numpy.linalg.solve()`"
   ]
  },
  {
   "cell_type": "code",
   "execution_count": 127,
   "id": "a411333d",
   "metadata": {},
   "outputs": [
    {
     "name": "stdout",
     "output_type": "stream",
     "text": [
      "np.linarg.solve(A,B):\n",
      "[ 2. -0.  0. -0.]\n",
      "\n",
      "np.allclose(S, fact_sol):\n",
      "True\n"
     ]
    }
   ],
   "source": [
    "import numpy as np\n",
    "\n",
    "A = np.array([[2, -1, 3, 2],\n",
    "    [3,  3,  3, 2],\n",
    "    [3, -1, -1, 2],\n",
    "    [3, -1, 3, -1]])\n",
    "\n",
    "B = np.array([4, 6, 6, 6])\n",
    "S = np.array([2, 0, 0, 0])\n",
    "\n",
    "fact_sol = np.linalg.solve(A, B)\n",
    "\n",
    "\n",
    "print(\"np.linarg.solve(A,B):\")\n",
    "print(fact_sol)\n",
    "\n",
    "print(\"\\nnp.allclose(S, fact_sol):\")\n",
    "print(np.allclose(S, fact_sol))"
   ]
  },
  {
   "cell_type": "markdown",
   "id": "c086d565",
   "metadata": {},
   "source": [
    "# Завдання 3\n",
    "\n",
    "Обчислити значення матричного виразу\n",
    "* з використанням універсальних функцій бібліотеки NumPy.\n",
    "* за допомогою ітеративних конструкцій (з використанням циклів, спискових включень тощо).\n",
    "* для обох випадків підрахувати час виконання скрипту та зробити висновок.\n",
    "\n",
    "Порівняти всі рішення за допомогою функції `numpy.allclose()`."
   ]
  },
  {
   "cell_type": "markdown",
   "id": "1e8655fa",
   "metadata": {},
   "source": [
    "## Спосіб 1: numpy"
   ]
  },
  {
   "cell_type": "code",
   "execution_count": 125,
   "id": "ccd0e03e",
   "metadata": {
    "scrolled": true
   },
   "outputs": [
    {
     "name": "stdout",
     "output_type": "stream",
     "text": [
      "A:\n",
      "[[ 3  2 -5]\n",
      " [ 4  2  0]\n",
      " [ 1  1  2]]\n",
      "\n",
      "B:\n",
      "[[-1  2  4]\n",
      " [ 0  3  2]\n",
      " [-1 -3  4]]\n",
      "\n",
      "(A - B)A + 3B:\n",
      "[[  0   5 -26]\n",
      " [  6  13 -18]\n",
      " [ 17   1  -2]]\n",
      "CPU times: user 994 µs, sys: 639 µs, total: 1.63 ms\n",
      "Wall time: 1.54 ms\n"
     ]
    }
   ],
   "source": [
    "import numpy as np\n",
    "\n",
    "def task_3():\n",
    "    A = np.array([[3, 2, -5], [4, 2, 0], [1, 1, 2]])\n",
    "    B = np.array([[-1, 2, 4], [0, 3, 2], [-1, -3, 4]])\n",
    "\n",
    "    # (A - B)A + 3B\n",
    "    C = np.add(np.subtract(A, B).dot(A), np.multiply(B, 3))\n",
    "\n",
    "    print(\"A:\")\n",
    "    print(A)\n",
    "    print(\"\\nB:\")\n",
    "    print(B)\n",
    "    print(\"\\n(A - B)A + 3B:\")\n",
    "    print(C)\n",
    "\n",
    "%time task_3()"
   ]
  },
  {
   "cell_type": "code",
   "execution_count": 124,
   "id": "63c3d06d",
   "metadata": {},
   "outputs": [
    {
     "name": "stdout",
     "output_type": "stream",
     "text": [
      "A:\n",
      "[3, 2, -5]\n",
      "[4, 2, 0]\n",
      "[1, 1, 2]\n",
      "\n",
      "B:\n",
      "[-1, 2, 4]\n",
      "[0, 3, 2]\n",
      "[-1, -3, 4]\n",
      "\n",
      "(A - B)A + 3B:\n",
      "[0, 5, -26]\n",
      "[6, 13, -18]\n",
      "[17, 1, -2]\n",
      "CPU times: user 260 µs, sys: 58 µs, total: 318 µs\n",
      "Wall time: 295 µs\n"
     ]
    }
   ],
   "source": [
    "def matr_mul_num(A, n):\n",
    "    res = [[0 for i in range(3)] for j in range(3)]\n",
    "    \n",
    "    for i in range(3):\n",
    "        for j in range(3):\n",
    "            res[i][j] = A[i][j] * n\n",
    "        \n",
    "    return res\n",
    "\n",
    "def matr_add(A, B):\n",
    "    res = [[0 for i in range(3)] for j in range(3)]\n",
    "    \n",
    "    for i in range(3):\n",
    "        for j in range(3):\n",
    "            res[i][j] = A[i][j] + B[i][j]\n",
    "    \n",
    "    return res;\n",
    "\n",
    "def matr_sub(A, B):\n",
    "    return matr_add(A, matr_mul_num(B, -1))\n",
    "\n",
    "def matr_mul(A, B):\n",
    "    res = [[0 for i in range(3)] for j in range(3)]\n",
    "    \n",
    "    for i in range(3):\n",
    "        for j in range(3):\n",
    "            for k in range(3):\n",
    "                res[i][j] += A[i][k] * B[k][j]\n",
    "    \n",
    "    return res;\n",
    "\n",
    "def task_3():\n",
    "    A = [[3, 2, -5], [4, 2, 0], [1, 1, 2]]\n",
    "    B = [[-1, 2, 4], [0, 3, 2], [-1, -3, 4]]\n",
    "    \n",
    "    res = matr_add(matr_mul(matr_sub(A, B), A), matr_mul_num(B, 3))\n",
    "    \n",
    "    print(\"A:\")\n",
    "    for row in A:\n",
    "        print(row)\n",
    "    \n",
    "    print(\"\\nB:\")\n",
    "    for row in B:\n",
    "        print(row)\n",
    "    \n",
    "    print(\"\\n(A - B)A + 3B:\")\n",
    "    for row in res:\n",
    "        print(row)\n",
    "    \n",
    "%time task_3()"
   ]
  },
  {
   "cell_type": "code",
   "execution_count": null,
   "id": "97889302",
   "metadata": {},
   "outputs": [],
   "source": []
  }
 ],
 "metadata": {
  "kernelspec": {
   "display_name": "Python 3 (ipykernel)",
   "language": "python",
   "name": "python3"
  },
  "language_info": {
   "codemirror_mode": {
    "name": "ipython",
    "version": 3
   },
   "file_extension": ".py",
   "mimetype": "text/x-python",
   "name": "python",
   "nbconvert_exporter": "python",
   "pygments_lexer": "ipython3",
   "version": "3.10.11"
  }
 },
 "nbformat": 4,
 "nbformat_minor": 5
}
